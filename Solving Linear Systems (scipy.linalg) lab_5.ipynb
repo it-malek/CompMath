{
 "cells": [
  {
   "cell_type": "markdown",
   "metadata": {},
   "source": [
    "# Lab 5: Solving Linear Systems"
   ]
  },
  {
   "cell_type": "markdown",
   "metadata": {},
   "source": [
    "The goal of the lab is to solve\n",
    "$$Ax=b$$\n",
    "For that we will use following functions\n",
    "* [scipy.lingal.inv](https://docs.scipy.org/doc/scipy/reference/generated/scipy.linalg.inv.html) this one solve the system using $x=A^{-1}b$\n",
    "* [scipy.lingal.lu_factor](https://docs.scipy.org/doc/scipy/reference/generated/scipy.linalg.lu_factor.html#scipy.linalg.lu_factor) this one compute the $PLU$ factorization of $A$\n",
    "* [scipy.lingal.lu_solve](https://docs.scipy.org/doc/scipy/reference/generated/scipy.linalg.lu_solve.html) this one solve $PLUx=b$\n",
    "* [scipy.lingal.solve](https://docs.scipy.org/doc/scipy/reference/generated/scipy.linalg.solve.html) this one solve directly $Ax=b$"
   ]
  },
  {
   "cell_type": "code",
   "execution_count": null,
   "metadata": {},
   "outputs": [],
   "source": [
    "# IMPORTS\n",
    "import scipy.linalg as spl\n",
    "from scipy.linalg import lu, lu_factor, lu_solve\n",
    "import numpy as np\n",
    "import matplotlib.pyplot as plt\n",
    "import timeit\n"
   ]
  },
  {
   "cell_type": "markdown",
   "metadata": {},
   "source": [
    "### Exercise 1\n",
    "\n",
    "Test the different solvers with a system you know the answer of\n",
    "* Invert $A$ with **scipy.linalg.inv()**  and left-multiply the inverse to **b**.\n",
    "* Use **scipy.linalg.solve()**.\n",
    "* Use **scipy.linalg.lu_factor()** and **scipy.linalg.lu_solve()** to solve the system with the LU decomposition."
   ]
  },
  {
   "cell_type": "code",
   "execution_count": null,
   "metadata": {},
   "outputs": [
    {
     "name": "stdout",
     "output_type": "stream",
     "text": [
      "Matrix A: [[ 2.  1.  5.]\n",
      " [ 1. -1.  3.]\n",
      " [ 4.  2.  7.]]\n",
      "Choice of x values: [12  4  6]\n"
     ]
    }
   ],
   "source": [
    "#Creation of system (matrix A) and solutions (array X)\n",
    "A = np.zeros((3,3), 'd')\n",
    "A[0,0] = 2\n",
    "A[0,1] = 1\n",
    "A[0,2] = 5\n",
    "A[1,0] = 1\n",
    "A[1,1] = -1\n",
    "A[1,2] = 3\n",
    "A[2,0] = 4\n",
    "A[2,1] = 2\n",
    "A[2,2] = 7\n",
    "#print(A)\n",
    "\n",
    "x = np.array([12, 4, 6])\n",
    "print(\"Matrix A:\", A)\n",
    "print(\"Choice of x values:\", x)"
   ]
  },
  {
   "cell_type": "code",
   "execution_count": null,
   "metadata": {},
   "outputs": [
    {
     "name": "stdout",
     "output_type": "stream",
     "text": [
      "The solutions associated with matrix A and the chosen x values is: [58. 26. 98.]\n"
     ]
    }
   ],
   "source": [
    "#Finding b:\n",
    "b = (A.dot(x))\n",
    "#b\n",
    "print(\"The solutions associated with matrix A and the chosen x values is:\", b)"
   ]
  },
  {
   "cell_type": "code",
   "execution_count": null,
   "metadata": {},
   "outputs": [
    {
     "name": "stdout",
     "output_type": "stream",
     "text": [
      "Testing inverse A method: the solution produced by this method is: [12.  4.  6.]\n",
      "These are the solutions we initially chose, indicating this method is working.\n"
     ]
    }
   ],
   "source": [
    "#Testing method 1\n",
    "Ainv = spl.inv(A)\n",
    "Ainv\n",
    "#u = Ainv.dot(b)\n",
    "#u\n",
    "u = Ainv.dot(b)\n",
    "print(\"Testing inverse A method: the solution produced by this method is:\", u)\n",
    "print( \"These are the solutions we initially chose, indicating this method is working.\")"
   ]
  },
  {
   "cell_type": "code",
   "execution_count": null,
   "metadata": {},
   "outputs": [
    {
     "name": "stdout",
     "output_type": "stream",
     "text": [
      "Testing LU decomposition method: the solution produced by this method is: [12.  4.  6.]\n",
      "These are the solutions we initially chose, indicating this method is working.\n"
     ]
    }
   ],
   "source": [
    "#Testing method 2\n",
    "LU, P = spl.lu_factor(A)\n",
    "print(\"Testing LU decomposition method: the solution produced by this method is:\", spl.lu_solve((LU,P), b))\n",
    "print( \"These are the solutions we initially chose, indicating this method is working.\")"
   ]
  },
  {
   "cell_type": "code",
   "execution_count": null,
   "metadata": {},
   "outputs": [
    {
     "name": "stdout",
     "output_type": "stream",
     "text": [
      "Testing spl.solve method: the solution produced by this method is: [12.  4.  6.]\n",
      "These are the solutions we initially chose, indicating this method is working.\n"
     ]
    }
   ],
   "source": [
    "#Testing method 3:\n",
    "x = spl.solve(A, b)\n",
    "print(\"Testing spl.solve method: the solution produced by this method is:\",x)\n",
    "print( \"These are the solutions we initially chose, indicating this method is working.\")"
   ]
  },
  {
   "cell_type": "markdown",
   "metadata": {},
   "source": [
    "## Exercise 2\n",
    "\n",
    "Write a function that times different **scipy.linalg** functions for solving square linear systems.\n",
    "\n",
    "For various values of $n$, generate a random $n \\times n$ matrix $A$ and a random $n$-vector $b$ using **np.random.random()**.\n",
    "Time how long it takes to solve the system $Ax = b$ with each of the following approaches:\n",
    "\n",
    "* Invert $A$ with **scipy.linalg.inv()**  and left-multiply the inverse to **b**.\n",
    "* Use **scipy.linalg.solve()**.\n",
    "* Use **scipy.linalg.lu_factor()** and **scipy.linalg.lu_solve()** to solve the system with the LU decomposition.\n",
    "* Use **scipy.linalg.lu_factor()** and **scipy.linalg.lu_solve()**, but only time **scipy.linalg.lu_solve()** (not the time it takes to do the factorization with **scipy.linalga.lu_factor()**).\n",
    "\n",
    "Plot the system size $n$ versus the execution times. (to time a code use **time.time()** and to create a random matrix use **np.random.random((n,n))**)\n",
    "\n",
    "**What can you conclude?**"
   ]
  },
  {
   "cell_type": "code",
   "execution_count": null,
   "metadata": {},
   "outputs": [],
   "source": [
    "A1 =np.random.random((100, 100))\n",
    "#print(A1)\n",
    "b1 = np.random.random(100)\n",
    "#print(b1)\n",
    "A2 = np.random.random((1000, 1000))\n",
    "b2 = np.random.random(1000)\n",
    "A3 = np.random.random((2000,2000))\n",
    "b3 = np.random.random(2000)"
   ]
  },
  {
   "cell_type": "code",
   "execution_count": null,
   "metadata": {},
   "outputs": [
    {
     "name": "stdout",
     "output_type": "stream",
     "text": [
      "Execution time to invert A (100x100) and left-multiply with b: 0.07819199562072754\n"
     ]
    }
   ],
   "source": [
    "#First array, first method\n",
    "t1 = time.time()\n",
    "A1inv = spl.inv(A1)\n",
    "u1 = A1inv.dot(b1)\n",
    "t1 = time.time()-t1\n",
    "print(\"Execution time to invert A (100x100) and left-multiply with b:\",t1)#this should be the longest method"
   ]
  },
  {
   "cell_type": "code",
   "execution_count": null,
   "metadata": {},
   "outputs": [
    {
     "name": "stdout",
     "output_type": "stream",
     "text": [
      "Execution time for LU decomposition method: 0.06768226623535156\n"
     ]
    }
   ],
   "source": [
    "#First array, second method\n",
    "t2 = time.time()\n",
    "LU, P = spl.lu_factor(A1)\n",
    "spl.lu_solve((LU,P), b1)\n",
    "t2 = time.time() - t2\n",
    "print(\"Execution time for LU decomposition method:\",t2)"
   ]
  },
  {
   "cell_type": "code",
   "execution_count": null,
   "metadata": {},
   "outputs": [
    {
     "name": "stdout",
     "output_type": "stream",
     "text": [
      "Execution time to solely factor A (100x100): 0.042067766189575195\n"
     ]
    }
   ],
   "source": [
    "#First array: factor\n",
    "t4 = time.time()\n",
    "LU, P = spl.lu_factor(A1)\n",
    "t4 = time.time() - t4\n",
    "print(\"Execution time to solely factor A (100x100):\", t4)#this should be the fastest method"
   ]
  },
  {
   "cell_type": "code",
   "execution_count": null,
   "metadata": {},
   "outputs": [
    {
     "name": "stdout",
     "output_type": "stream",
     "text": [
      "Execution time to use spl.solve method: 0.04538607597351074\n"
     ]
    }
   ],
   "source": [
    "#First array, third method\n",
    "t3 = time.time()\n",
    "x = spl.solve(A1, b1)\n",
    "t3 = time.time() -t3\n",
    "print(\"Execution time to use spl.solve method:\", t3)"
   ]
  },
  {
   "cell_type": "code",
   "execution_count": null,
   "metadata": {},
   "outputs": [
    {
     "name": "stdout",
     "output_type": "stream",
     "text": [
      "Execution time to invert A (1000x1000) and left-multiply with b: 0.26131629943847656\n"
     ]
    }
   ],
   "source": [
    "#Second array, first method\n",
    "v1 = time.time()\n",
    "A2inv = spl.inv(A2)\n",
    "u2 = A2inv.dot(b2)\n",
    "v1 = time.time()-v1\n",
    "print(\"Execution time to invert A (1000x1000) and left-multiply with b:\", v1)"
   ]
  },
  {
   "cell_type": "code",
   "execution_count": null,
   "metadata": {},
   "outputs": [
    {
     "name": "stdout",
     "output_type": "stream",
     "text": [
      "Execution time for LU decomposition method: 0.2667720317840576\n"
     ]
    }
   ],
   "source": [
    "#Second array, second method\n",
    "v2 = time.time()\n",
    "LU, P = spl.lu_factor(A2)\n",
    "spl.lu_solve((LU,P), b2)\n",
    "v2 = time.time() - v2\n",
    "print(\"Execution time for LU decomposition method:\", v2)"
   ]
  },
  {
   "cell_type": "code",
   "execution_count": null,
   "metadata": {},
   "outputs": [
    {
     "name": "stdout",
     "output_type": "stream",
     "text": [
      "Execution time to solely factor A (1000x1000): 0.1905837059020996\n"
     ]
    }
   ],
   "source": [
    "#Second array: factor\n",
    "v4 = time.time()\n",
    "LU, P = spl.lu_factor(A2)\n",
    "v4 = time.time() - v4\n",
    "print(\"Execution time to solely factor A (1000x1000):\", v4)"
   ]
  },
  {
   "cell_type": "code",
   "execution_count": null,
   "metadata": {},
   "outputs": [
    {
     "name": "stdout",
     "output_type": "stream",
     "text": [
      "Execution time to use spl.solve method: 0.16781353950500488\n"
     ]
    }
   ],
   "source": [
    "#Second array, third method\n",
    "v3 = time.time()\n",
    "x = spl.solve(A2, b2)\n",
    "v3 = time.time() - v3\n",
    "print(\"Execution time to use spl.solve method:\", v3)"
   ]
  },
  {
   "cell_type": "code",
   "execution_count": null,
   "metadata": {},
   "outputs": [
    {
     "name": "stdout",
     "output_type": "stream",
     "text": [
      "Execution time to invert A (2000x2000) and left-multiply with b: 0.4261806011199951\n"
     ]
    }
   ],
   "source": [
    "#Third array, first method\n",
    "w1 = time.time()\n",
    "A3inv = spl.inv(A3)\n",
    "u3 = A3inv.dot(b3)\n",
    "w1 = time.time()- w1\n",
    "print(\"Execution time to invert A (2000x2000) and left-multiply with b:\", w1)"
   ]
  },
  {
   "cell_type": "code",
   "execution_count": null,
   "metadata": {},
   "outputs": [
    {
     "name": "stdout",
     "output_type": "stream",
     "text": [
      "Execution time for LU decomposition method: 0.20423388481140137\n"
     ]
    }
   ],
   "source": [
    "#Third array, second method\n",
    "w2 = time.time()\n",
    "LU, P = spl.lu_factor(A3)\n",
    "spl.lu_solve((LU,P), b3)\n",
    "w2 = time.time() - w2\n",
    "print(\"Execution time for LU decomposition method:\", w2)"
   ]
  },
  {
   "cell_type": "code",
   "execution_count": null,
   "metadata": {},
   "outputs": [
    {
     "name": "stdout",
     "output_type": "stream",
     "text": [
      "Execution time to solely factor A (2000x2000): 0.2277834415435791\n"
     ]
    }
   ],
   "source": [
    "#Third array: factor\n",
    "w4 = time.time()\n",
    "LU, P = spl.lu_factor(A3)\n",
    "w4 = time.time() - w4\n",
    "print(\"Execution time to solely factor A (2000x2000):\", w4)"
   ]
  },
  {
   "cell_type": "code",
   "execution_count": null,
   "metadata": {},
   "outputs": [
    {
     "name": "stdout",
     "output_type": "stream",
     "text": [
      "Execution time to use spl.solve method: 0.1954789161682129\n"
     ]
    }
   ],
   "source": [
    "#Third array, third method\n",
    "w3 = time.time()\n",
    "x = spl.solve(A3, b3)\n",
    "w3 = time.time() - w3\n",
    "print(\"Execution time to use spl.solve method:\", w3)"
   ]
  },
  {
   "cell_type": "code",
   "execution_count": null,
   "metadata": {},
   "outputs": [
    {
     "data": {
      "text/plain": [
       "Text(0.5, 1.0, 'Execution Times vs Matrix Size')"
      ]
     },
     "execution_count": 26,
     "metadata": {},
     "output_type": "execute_result"
    },
    {
     "data": {
      "image/png": "[encoded data removed]",
      "text/plain": [
       "<Figure size 640x480 with 1 Axes>"
      ]
     },
     "metadata": {},
     "output_type": "display_data"
    }
   ],
   "source": [
    "x = np.array([100, 1000, 2000])\n",
    "method1 = np.array([t1, v1, w1])\n",
    "method2 = np.array([t2, v2, w2])\n",
    "factormethod = np.array([t4, v4, w4])\n",
    "method3 = np.array([t3, v3, w3])\n",
    "\n",
    "plt.plot(x, method1, color = \"blue\")\n",
    "plt.plot(x, method2, color = \"orange\")\n",
    "plt.plot(x, method3, color = \"green\")\n",
    "plt.plot(x, factormethod, color = \"red\")\n",
    "plt.legend([\"Inverse method\", \"LU Decomposition Method\", \"spl.solve Method\", \"Solely LU Factor\"])\n",
    "plt.xlabel(\"Matrix Size (n)\")\n",
    "plt.ylabel(\"Execution Time (seconds)\")\n",
    "plt.title(\"Execution Times vs Matrix Size\")"
   ]
  },
  {
   "cell_type": "code",
   "execution_count": null,
   "metadata": {},
   "outputs": [
    {
     "ename": "KeyboardInterrupt",
     "evalue": "",
     "output_type": "error",
     "traceback": [
      "\u001b[1;31m---------------------------------------------------------------------------\u001b[0m",
      "\u001b[1;31mKeyboardInterrupt\u001b[0m                         Traceback (most recent call last)",
      "Cell \u001b[1;32mIn[31], line 23\u001b[0m\n\u001b[0;32m     21\u001b[0m \u001b[39mfor\u001b[39;00m n \u001b[39min\u001b[39;00m n_values:\n\u001b[0;32m     22\u001b[0m     \u001b[39mfor\u001b[39;00m i, (name, method) \u001b[39min\u001b[39;00m \u001b[39menumerate\u001b[39m(methods):\n\u001b[1;32m---> 23\u001b[0m         t \u001b[39m=\u001b[39m timeit\u001b[39m.\u001b[39;49mtimeit(\u001b[39mlambda\u001b[39;49;00m: method(A, b), number\u001b[39m=\u001b[39;49m\u001b[39m10\u001b[39;49m)\n\u001b[0;32m     24\u001b[0m         times[i]\u001b[39m.\u001b[39mappend(t)\n\u001b[0;32m     26\u001b[0m \u001b[39m# Plot the execution times\u001b[39;00m\n",
      "File \u001b[1;32mc:\\Users\\malekpc\\AppData\\Local\\Programs\\Python\\Python310\\lib\\timeit.py:234\u001b[0m, in \u001b[0;36mtimeit\u001b[1;34m(stmt, setup, timer, number, globals)\u001b[0m\n\u001b[0;32m    231\u001b[0m \u001b[39mdef\u001b[39;00m \u001b[39mtimeit\u001b[39m(stmt\u001b[39m=\u001b[39m\u001b[39m\"\u001b[39m\u001b[39mpass\u001b[39m\u001b[39m\"\u001b[39m, setup\u001b[39m=\u001b[39m\u001b[39m\"\u001b[39m\u001b[39mpass\u001b[39m\u001b[39m\"\u001b[39m, timer\u001b[39m=\u001b[39mdefault_timer,\n\u001b[0;32m    232\u001b[0m            number\u001b[39m=\u001b[39mdefault_number, \u001b[39mglobals\u001b[39m\u001b[39m=\u001b[39m\u001b[39mNone\u001b[39;00m):\n\u001b[0;32m    233\u001b[0m \u001b[39m    \u001b[39m\u001b[39m\"\"\"Convenience function to create Timer object and call timeit method.\"\"\"\u001b[39;00m\n\u001b[1;32m--> 234\u001b[0m     \u001b[39mreturn\u001b[39;00m Timer(stmt, setup, timer, \u001b[39mglobals\u001b[39;49m)\u001b[39m.\u001b[39;49mtimeit(number)\n",
      "File \u001b[1;32mc:\\Users\\malekpc\\AppData\\Local\\Programs\\Python\\Python310\\lib\\timeit.py:178\u001b[0m, in \u001b[0;36mTimer.timeit\u001b[1;34m(self, number)\u001b[0m\n\u001b[0;32m    176\u001b[0m gc\u001b[39m.\u001b[39mdisable()\n\u001b[0;32m    177\u001b[0m \u001b[39mtry\u001b[39;00m:\n\u001b[1;32m--> 178\u001b[0m     timing \u001b[39m=\u001b[39m \u001b[39mself\u001b[39;49m\u001b[39m.\u001b[39;49minner(it, \u001b[39mself\u001b[39;49m\u001b[39m.\u001b[39;49mtimer)\n\u001b[0;32m    179\u001b[0m \u001b[39mfinally\u001b[39;00m:\n\u001b[0;32m    180\u001b[0m     \u001b[39mif\u001b[39;00m gcold:\n",
      "File \u001b[1;32m<timeit-src>:6\u001b[0m, in \u001b[0;36minner\u001b[1;34m(_it, _timer, _stmt)\u001b[0m\n",
      "Cell \u001b[1;32mIn[31], line 23\u001b[0m, in \u001b[0;36m<lambda>\u001b[1;34m()\u001b[0m\n\u001b[0;32m     21\u001b[0m \u001b[39mfor\u001b[39;00m n \u001b[39min\u001b[39;00m n_values:\n\u001b[0;32m     22\u001b[0m     \u001b[39mfor\u001b[39;00m i, (name, method) \u001b[39min\u001b[39;00m \u001b[39menumerate\u001b[39m(methods):\n\u001b[1;32m---> 23\u001b[0m         t \u001b[39m=\u001b[39m timeit\u001b[39m.\u001b[39mtimeit(\u001b[39mlambda\u001b[39;00m: method(A, b), number\u001b[39m=\u001b[39m\u001b[39m10\u001b[39m)\n\u001b[0;32m     24\u001b[0m         times[i]\u001b[39m.\u001b[39mappend(t)\n\u001b[0;32m     26\u001b[0m \u001b[39m# Plot the execution times\u001b[39;00m\n",
      "Cell \u001b[1;32mIn[31], line 13\u001b[0m, in \u001b[0;36m<lambda>\u001b[1;34m(A, b)\u001b[0m\n\u001b[0;32m      7\u001b[0m n_values \u001b[39m=\u001b[39m [\u001b[39m10\u001b[39m, \u001b[39m100\u001b[39m, \u001b[39m1000\u001b[39m, \u001b[39m2000\u001b[39m, \u001b[39m4000\u001b[39m]\n\u001b[0;32m      9\u001b[0m \u001b[39m# Define the methods to time\u001b[39;00m\n\u001b[0;32m     10\u001b[0m methods \u001b[39m=\u001b[39m [\n\u001b[0;32m     11\u001b[0m     (\u001b[39m'\u001b[39m\u001b[39mInverse method\u001b[39m\u001b[39m'\u001b[39m, \u001b[39mlambda\u001b[39;00m A, b: spl\u001b[39m.\u001b[39minv(A) \u001b[39m@\u001b[39m b), \u001b[39m# @ is same as .dot()\u001b[39;00m\n\u001b[0;32m     12\u001b[0m     (\u001b[39m'\u001b[39m\u001b[39mLU decomposition method\u001b[39m\u001b[39m'\u001b[39m, \u001b[39mlambda\u001b[39;00m A, b: spl\u001b[39m.\u001b[39mlu_solve(spl\u001b[39m.\u001b[39mlu_factor(A), b)),\n\u001b[1;32m---> 13\u001b[0m     (\u001b[39m'\u001b[39m\u001b[39mspl.solve method\u001b[39m\u001b[39m'\u001b[39m, \u001b[39mlambda\u001b[39;00m A, b: spl\u001b[39m.\u001b[39;49msolve(A, b)),\n\u001b[0;32m     14\u001b[0m     (\u001b[39m'\u001b[39m\u001b[39mSolely LU factor\u001b[39m\u001b[39m'\u001b[39m, \u001b[39mlambda\u001b[39;00m A, b: spl\u001b[39m.\u001b[39mlu_factor(A))\n\u001b[0;32m     15\u001b[0m ]\n\u001b[0;32m     17\u001b[0m \u001b[39m# Time each method for each array size\u001b[39;00m\n\u001b[0;32m     18\u001b[0m times \u001b[39m=\u001b[39m [[] \u001b[39mfor\u001b[39;00m _ \u001b[39min\u001b[39;00m methods]\n",
      "File \u001b[1;32mc:\\Users\\malekpc\\AppData\\Local\\Programs\\Python\\Python310\\lib\\site-packages\\scipy\\linalg\\_basic.py:222\u001b[0m, in \u001b[0;36msolve\u001b[1;34m(a, b, sym_pos, lower, overwrite_a, overwrite_b, check_finite, assume_a, transposed)\u001b[0m\n\u001b[0;32m    219\u001b[0m \u001b[39mif\u001b[39;00m assume_a \u001b[39m==\u001b[39m \u001b[39m'\u001b[39m\u001b[39mgen\u001b[39m\u001b[39m'\u001b[39m:\n\u001b[0;32m    220\u001b[0m     gecon, getrf, getrs \u001b[39m=\u001b[39m get_lapack_funcs((\u001b[39m'\u001b[39m\u001b[39mgecon\u001b[39m\u001b[39m'\u001b[39m, \u001b[39m'\u001b[39m\u001b[39mgetrf\u001b[39m\u001b[39m'\u001b[39m, \u001b[39m'\u001b[39m\u001b[39mgetrs\u001b[39m\u001b[39m'\u001b[39m),\n\u001b[0;32m    221\u001b[0m                                            (a1, b1))\n\u001b[1;32m--> 222\u001b[0m     lu, ipvt, info \u001b[39m=\u001b[39m getrf(a1, overwrite_a\u001b[39m=\u001b[39;49moverwrite_a)\n\u001b[0;32m    223\u001b[0m     _solve_check(n, info)\n\u001b[0;32m    224\u001b[0m     x, info \u001b[39m=\u001b[39m getrs(lu, ipvt, b1,\n\u001b[0;32m    225\u001b[0m                     trans\u001b[39m=\u001b[39mtrans, overwrite_b\u001b[39m=\u001b[39moverwrite_b)\n",
      "\u001b[1;31mKeyboardInterrupt\u001b[0m: "
     ]
    }
   ],
   "source": [
    "import timeit\n",
    "import numpy as np\n",
    "import scipy.linalg as spl\n",
    "import matplotlib.pyplot as plt\n",
    "\n",
    "# Define the array sizes\n",
    "n_values = [10, 100, 1000, 2000, 4000]\n",
    "\n",
    "# Define the methods to time\n",
    "methods = [\n",
    "    ('Inverse method', lambda A, b: spl.inv(A) @ b), # @ is same as .dot()\n",
    "    ('LU decomposition method', lambda A, b: spl.lu_solve(spl.lu_factor(A), b)),\n",
    "    ('spl.solve method', lambda A, b: spl.solve(A, b)),\n",
    "    ('Solely LU factor', lambda A, b: spl.lu_factor(A))\n",
    "]\n",
    "\n",
    "# Time each method for each array size\n",
    "times = [[] for _ in methods]\n",
    "for n in n_values:\n",
    "    A = np.random.random((n, n))\n",
    "    b = np.random.random(n)\n",
    "    for i, (name, method) in enumerate(methods):\n",
    "        t = timeit.timeit(lambda: method(A, b), number=10)\n",
    "        times[i].append(t)\n",
    "\n",
    "# Plot the execution times\n",
    "plt.figure(figsize=(10, 6))\n",
    "for name, timings in zip(methods, times):\n",
    "    plt.plot(n_values, timings, '-o', label=name[0])\n",
    "plt.xlabel('System size n')\n",
    "plt.ylabel('Execution time (s)')\n",
    "plt.legend()\n",
    "plt.show()\n"
   ]
  },
  {
   "cell_type": "code",
   "execution_count": null,
   "metadata": {},
   "outputs": [
    {
     "name": "stdout",
     "output_type": "stream",
     "text": [
      "\n",
      "After testing each of the methods with matrices of varying sizes, I can conclude that as the size of the matrix increases,\n",
      "solely factoring the matrix is executed fastest, and solving the matrix by inverting A takes the longest amount of time.\n",
      "For each of the four functions, as the size of the matrix increases, the execution time increases.\n",
      "\n"
     ]
    }
   ],
   "source": [
    "print(\"\"\"\n",
    "After testing each of the methods with matrices of varying sizes, I can conclude that as the size of the matrix increases,\n",
    "solely factoring the matrix is executed fastest, and solving the matrix by inverting A takes the longest amount of time.\n",
    "For each of the four functions, as the size of the matrix increases, the execution time increases.\n",
    "\"\"\")"
   ]
  },
  {
   "cell_type": "markdown",
   "metadata": {
    "tags": []
   },
   "source": [
    "### Exercise 3\n",
    "\n",
    " Solve the systems\n",
    "1. $\\begin{cases}\n",
    "  2x_1-x_2+x_3 &= 7\\\\\n",
    "  4x_1-2x_2+x_3&=3\\\\\n",
    "  x_1+2x_2+4x_3 &= 11\\\\\n",
    "  \\end{cases}$\n",
    "\n",
    "2. $\\begin{cases}\n",
    "  \\frac{5}{3}x_1+\\frac{2}{3}x_2+\\frac{2}{3}x_3 &= 7\\\\\n",
    "  2x_1+x_2+4x_3 &=-8\\\\\n",
    "  -x_1+4x_2+x_3&=5\\\\\n",
    "  \\end{cases}$\n",
    "  \n",
    "3. $\\begin{cases}\n",
    "  5x_1+2x_2+3x_3-x_4 &= 2\\\\\n",
    "  x_1+2x_2+x_4 &=-1\\\\\n",
    "  3x_1-x_2-3x_3+2x_4 &= 3\\\\\n",
    "  2x_1+x_3+x_4 &= 2\\\\\n",
    "  \\end{cases}$\n",
    " \n",
    "\n",
    "4. $\\begin{cases}\n",
    "  2x_1+x_2 &=1\\\\\n",
    "  -x_1+2x_2+x_3 &= -2\\\\\n",
    "  -x_2+2x_3+x_4 &= -2\\\\\n",
    "  -x_3+2x_4+x_5 & =1.3 \\\\\n",
    "  -x_4+2x_5 &= 0.4\\end{cases}$"
   ]
  },
  {
   "cell_type": "code",
   "execution_count": null,
   "metadata": {},
   "outputs": [],
   "source": [
    "#Number 1:\n",
    "A = np.zeros((3,3), 'd')\n",
    "A[0,0] = 2\n",
    "A[0,1] = -1\n",
    "A[0,2] = 1\n",
    "A[1,0] = 4\n",
    "A[1,1] = -2\n",
    "A[1,2] = 1\n",
    "A[2,0] = 1\n",
    "A[2,1] = 2\n",
    "A[2,2] = 4\n",
    "#A\n",
    "b = np.array([7, 3, 11])\n",
    "#b"
   ]
  },
  {
   "cell_type": "code",
   "execution_count": 1,
   "metadata": {},
   "outputs": [],
   "source": [
    "from scipy.linalg import inv, solve, lu_factor, lu_solve\n",
    "\n",
    "import numpy as np\n",
    "\n",
    "\n",
    "# Creating system (matrix A) and solutions (array X)\n",
    "\n",
    "A = np.array([[7, -2, 1, -3], [-5, 10, -2, 1],\n",
    "             [-2, 0, 8, 1], [0, 4, 1, 5]], dtype=float)\n",
    "\n",
    "b = np.array([-37, 27, 11, 39], dtype=float)\n",
    "\n",
    "\n",
    "x = solve(A, b)\n"
   ]
  },
  {
   "cell_type": "code",
   "execution_count": 2,
   "metadata": {},
   "outputs": [
    {
     "data": {
      "text/plain": [
       "array([-2.0000000e+00,  1.0000000e+00,  1.3087995e-17,  7.0000000e+00])"
      ]
     },
     "execution_count": 2,
     "metadata": {},
     "output_type": "execute_result"
    }
   ],
   "source": [
    "x"
   ]
  },
  {
   "cell_type": "code",
   "execution_count": 6,
   "metadata": {},
   "outputs": [
    {
     "data": {
      "text/plain": [
       "array([-37.,  27.,  11.,  39.])"
      ]
     },
     "execution_count": 6,
     "metadata": {},
     "output_type": "execute_result"
    }
   ],
   "source": [
    "A @ x"
   ]
  },
  {
   "cell_type": "code",
   "execution_count": 20,
   "metadata": {},
   "outputs": [
    {
     "data": {
      "text/plain": [
       "array([ 18.8, -56. , -14.8])"
      ]
     },
     "execution_count": 20,
     "metadata": {},
     "output_type": "execute_result"
    }
   ],
   "source": [
    "b"
   ]
  },
  {
   "cell_type": "code",
   "execution_count": null,
   "metadata": {},
   "outputs": [],
   "source": [
    "4*u[1]_"
   ]
  },
  {
   "cell_type": "code",
   "execution_count": 21,
   "metadata": {},
   "outputs": [
    {
     "data": {
      "text/plain": [
       "array([  1. ,  -1.2, -10. ])"
      ]
     },
     "execution_count": 21,
     "metadata": {},
     "output_type": "execute_result"
    }
   ],
   "source": [
    "u"
   ]
  },
  {
   "cell_type": "code",
   "execution_count": 18,
   "metadata": {},
   "outputs": [
    {
     "name": "stdout",
     "output_type": "stream",
     "text": [
      "The solution after inverting A  is: [  1.   -1.2 -10. ]\n"
     ]
    }
   ],
   "source": [
    "Ainv = spl.inv(A)\n",
    "#Ainv\n",
    "u = Ainv.dot(b)\n",
    "print(\"The solution after inverting A  is:\", u)"
   ]
  },
  {
   "cell_type": "code",
   "execution_count": 22,
   "metadata": {},
   "outputs": [
    {
     "name": "stdout",
     "output_type": "stream",
     "text": [
      "[ 18.8 -56.  -14.8] [ 18.8 -56.  -14.8]\n"
     ]
    }
   ],
   "source": [
    "#Checking it is correct:\n",
    "print(np.dot(A, u), b)#we are correct because these match"
   ]
  },
  {
   "cell_type": "code",
   "execution_count": 19,
   "metadata": {},
   "outputs": [
    {
     "data": {
      "text/plain": [
       "3.552713678800501e-15"
      ]
     },
     "execution_count": 19,
     "metadata": {},
     "output_type": "execute_result"
    }
   ],
   "source": [
    "#option 1 for error: \n",
    "#np.max(np.abs(np.dot(A, u) -b))"
   ]
  },
  {
   "cell_type": "code",
   "execution_count": 18,
   "metadata": {},
   "outputs": [
    {
     "data": {
      "text/plain": [
       "1.7763568394002505e-15"
      ]
     },
     "execution_count": 18,
     "metadata": {},
     "output_type": "execute_result"
    }
   ],
   "source": [
    "#option 2 for error:\n",
    "print(\"The error associated with the inverting A method is:\", np.sqrt(np.sum(np.dot(A, u) -b)**2)/len(b))"
   ]
  },
  {
   "cell_type": "code",
   "execution_count": 78,
   "metadata": {},
   "outputs": [
    {
     "name": "stdout",
     "output_type": "stream",
     "text": [
      "The solution after using P, L, and U factorization is: [ -8.2 -12.4  11. ]\n"
     ]
    }
   ],
   "source": [
    "#Number 1: Method 2:\n",
    "LU, P = spl.lu_factor(A)\n",
    "print(\"The solution after using LU factorization is:\", spl.lu_solve((LU, P), b))"
   ]
  },
  {
   "cell_type": "code",
   "execution_count": 23,
   "metadata": {},
   "outputs": [
    {
     "name": "stdout",
     "output_type": "stream",
     "text": [
      "The solution after using spl.solve is: [ 5. -1. -4.  8.]\n"
     ]
    }
   ],
   "source": [
    "#Number 1: Method 3:\n",
    "A = np.array([[0, 1, -2, 0], [4, 1, 1, 6],\n",
    "             [1, 0, 0, 3], [0, 1, 6, 0]], dtype=float)\n",
    "\n",
    "b = np.array([7, 63, 29, -25], dtype=float)\n",
    "x = spl.solve(A, b)\n",
    "print(\"The solution after using spl.solve is:\",x)"
   ]
  },
  {
   "cell_type": "code",
   "execution_count": 29,
   "metadata": {},
   "outputs": [],
   "source": [
    "assert np.allclose(A @ x, b), \"Method 1 produced incorrect solution\""
   ]
  },
  {
   "cell_type": "code",
   "execution_count": 23,
   "metadata": {},
   "outputs": [
    {
     "name": "stdout",
     "output_type": "stream",
     "text": [
      "Error associated with spl.solve method: 3.972054645195637e-15\n"
     ]
    }
   ],
   "source": [
    "print(\"Error associated with spl.solve method:\", spl.norm(A.dot(x) -b))"
   ]
  },
  {
   "cell_type": "code",
   "execution_count": 24,
   "metadata": {},
   "outputs": [],
   "source": [
    "#Number 2:\n",
    "A = np.zeros((3,3), 'd')\n",
    "A[0,0] = 5/3\n",
    "A[0,1] = 2/3\n",
    "A[0,2] = 2/3\n",
    "A[1,0] = 2\n",
    "A[1,1] = -1\n",
    "A[1,2] = 4\n",
    "A[2,0] = -1\n",
    "A[2,1] = 4\n",
    "A[2,2] = 1\n",
    "#A\n",
    "b = np.array([7, -8, 5])\n",
    "#b"
   ]
  },
  {
   "cell_type": "code",
   "execution_count": 103,
   "metadata": {},
   "outputs": [
    {
     "name": "stdout",
     "output_type": "stream",
     "text": [
      "The solution after inverting A  is: [ 4.27710843  3.15662651 -3.34939759]\n"
     ]
    }
   ],
   "source": [
    "Ainv = spl.inv(A)\n",
    "#Ainv\n",
    "u = Ainv.dot(b)\n",
    "print(\"The solution after inverting A  is:\",u)"
   ]
  },
  {
   "cell_type": "code",
   "execution_count": 90,
   "metadata": {},
   "outputs": [
    {
     "name": "stdout",
     "output_type": "stream",
     "text": [
      "[ 7. -8.  5.] [ 7 -8  5]\n"
     ]
    }
   ],
   "source": [
    "#Checking it is correct:\n",
    "print(np.dot(A, u), b)"
   ]
  },
  {
   "cell_type": "code",
   "execution_count": 91,
   "metadata": {},
   "outputs": [
    {
     "data": {
      "text/plain": [
       "2.6645352591003757e-15"
      ]
     },
     "execution_count": 91,
     "metadata": {},
     "output_type": "execute_result"
    }
   ],
   "source": [
    "#option 1 for error: \n",
    "#np.max(np.abs(np.dot(A, u) -b))"
   ]
  },
  {
   "cell_type": "code",
   "execution_count": 92,
   "metadata": {},
   "outputs": [
    {
     "data": {
      "text/plain": [
       "8.881784197001252e-16"
      ]
     },
     "execution_count": 92,
     "metadata": {},
     "output_type": "execute_result"
    }
   ],
   "source": [
    "#option 2 for error:\n",
    "print(\"The error associated with the inverting A method is:\", np.sqrt(np.sum(np.dot(A, u) -b)**2)/len(b))"
   ]
  },
  {
   "cell_type": "code",
   "execution_count": 104,
   "metadata": {},
   "outputs": [
    {
     "name": "stdout",
     "output_type": "stream",
     "text": [
      "The solution after using P, L, and U factorization is: [ 4.27710843  3.15662651 -3.34939759]\n"
     ]
    }
   ],
   "source": [
    "#Number 2: Method 2:\n",
    "LU, P = spl.lu_factor(A)\n",
    "print(\"The solution after using LU factorization is:\", spl.lu_solve((LU, P), b))"
   ]
  },
  {
   "cell_type": "code",
   "execution_count": 25,
   "metadata": {},
   "outputs": [
    {
     "name": "stdout",
     "output_type": "stream",
     "text": [
      "The solution after using spl.solve is: [ 4.27710843  3.15662651 -3.34939759]\n"
     ]
    }
   ],
   "source": [
    "#Number 2: Method 3:\n",
    "x = spl.solve(A, b)\n",
    "print(\"The solution after using spl.solve is:\", x)"
   ]
  },
  {
   "cell_type": "code",
   "execution_count": 26,
   "metadata": {},
   "outputs": [
    {
     "name": "stdout",
     "output_type": "stream",
     "text": [
      "Error associated with spl.solve method: 1.9860273225978185e-15\n"
     ]
    }
   ],
   "source": [
    "print(\"Error associated with spl.solve method:\", spl.norm(A.dot(x) -b))"
   ]
  },
  {
   "cell_type": "code",
   "execution_count": 27,
   "metadata": {},
   "outputs": [],
   "source": [
    "#Number 3:\n",
    "A = np.zeros((4,4), 'd')\n",
    "A[0,0] = 5\n",
    "A[0,1] = 2\n",
    "A[0,2] = 3\n",
    "A[0,3] = -1\n",
    "A[1,0] = 1\n",
    "A[1,1] = 2\n",
    "A[1,2] = 0\n",
    "A[1,3] = 1\n",
    "A[2,0] = 3\n",
    "A[2,1] = -1\n",
    "A[2,2] = -3\n",
    "A[2,3] = 2\n",
    "A[3,0] = 2\n",
    "A[3,1] = 0\n",
    "A[3,2] = 1\n",
    "A[3,3] = 1\n",
    "#A\n",
    "b = np.array([2, -1, 3, 2])\n",
    "#b"
   ]
  },
  {
   "cell_type": "code",
   "execution_count": 101,
   "metadata": {},
   "outputs": [
    {
     "name": "stdout",
     "output_type": "stream",
     "text": [
      "The solution after inverting A  is: [ 0.71232877 -1.01369863  0.26027397  0.31506849]\n"
     ]
    }
   ],
   "source": [
    "Ainv = spl.inv(A)\n",
    "#Ainv\n",
    "u = Ainv.dot(b)\n",
    "print(\"The solution after inverting A  is:\", u)"
   ]
  },
  {
   "cell_type": "code",
   "execution_count": 96,
   "metadata": {},
   "outputs": [
    {
     "name": "stdout",
     "output_type": "stream",
     "text": [
      "[ 2. -1.  3.  2.] [ 2 -1  3  2]\n"
     ]
    }
   ],
   "source": [
    "#Checking it is correct:\n",
    "print(np.dot(A, u), b)"
   ]
  },
  {
   "cell_type": "code",
   "execution_count": null,
   "metadata": {},
   "outputs": [],
   "source": [
    "#option 2 for error:\n",
    "print(\"The error associated with the inverting A method is:\", np.sqrt(np.sum(np.dot(A, u) -b)**2)/len(b))"
   ]
  },
  {
   "cell_type": "code",
   "execution_count": 100,
   "metadata": {},
   "outputs": [
    {
     "name": "stdout",
     "output_type": "stream",
     "text": [
      "The solution after using P, L, and U factorization is: [ 0.71232877 -1.01369863  0.26027397  0.31506849]\n"
     ]
    }
   ],
   "source": [
    "#Number 3: Method 2\n",
    "LU, P = spl.lu_factor(A)\n",
    "print(\"The solution after using LU factorization is:\", spl.lu_solve((LU,P), b))"
   ]
  },
  {
   "cell_type": "code",
   "execution_count": 28,
   "metadata": {},
   "outputs": [
    {
     "name": "stdout",
     "output_type": "stream",
     "text": [
      "The solution after using spl.solve is: [ 0.71232877 -1.01369863  0.26027397  0.31506849]\n"
     ]
    }
   ],
   "source": [
    "#Number 3: Method 3\n",
    "x = spl.solve(A, b)\n",
    "print(\"The solution after using spl.solve is:\", x)"
   ]
  },
  {
   "cell_type": "code",
   "execution_count": 29,
   "metadata": {},
   "outputs": [
    {
     "name": "stdout",
     "output_type": "stream",
     "text": [
      "Error associated with spl.solve method: 1.137640067256873e-15\n"
     ]
    }
   ],
   "source": [
    "print(\"Error associated with spl.solve method:\", spl.norm(A.dot(x) -b))"
   ]
  },
  {
   "cell_type": "code",
   "execution_count": 30,
   "metadata": {},
   "outputs": [],
   "source": [
    "#Number 4:\n",
    "A = np.zeros((5,5), 'd')\n",
    "A[0,0] = 2\n",
    "A[0,1] = 1\n",
    "A[0,2] = 0\n",
    "A[0,3] = 0\n",
    "A[0,4] = 0\n",
    "A[1,0] = -1\n",
    "A[1,1] = 2\n",
    "A[1,2] = 1\n",
    "A[1,3] = 0\n",
    "A[1,4] = 0\n",
    "A[2,0] = 0\n",
    "A[2,1] = -1\n",
    "A[2,2] = 2\n",
    "A[2,3] = 1\n",
    "A[2,4] = 0\n",
    "A[3,0] = 0\n",
    "A[3,1] = 0\n",
    "A[3,2] = -1\n",
    "A[3,3] = 2\n",
    "A[3,4] = 1\n",
    "A[4,0] = 0\n",
    "A[4,1] = 0\n",
    "A[4,2] = 0\n",
    "A[4,3] = -1\n",
    "A[4,4] = 2\n",
    "\n",
    "b = np.array([1, -2, -2, 1.3, 0.4])"
   ]
  },
  {
   "cell_type": "code",
   "execution_count": 115,
   "metadata": {},
   "outputs": [
    {
     "name": "stdout",
     "output_type": "stream",
     "text": [
      "The solution after inverting A  is: [ 0.58285714 -0.16571429 -1.08571429  0.00571429  0.20285714]\n"
     ]
    }
   ],
   "source": [
    "#Number 4: First method:\n",
    "Ainv = spl.inv(A)\n",
    "u = Ainv.dot(b)\n",
    "print(\"The solution after inverting A  is:\", u)"
   ]
  },
  {
   "cell_type": "code",
   "execution_count": 111,
   "metadata": {},
   "outputs": [
    {
     "name": "stdout",
     "output_type": "stream",
     "text": [
      "[ 1.  -2.  -2.   1.3  0.4] [ 1.  -2.  -2.   1.3  0.4]\n"
     ]
    }
   ],
   "source": [
    "#Checking we are correct:\n",
    "print(np.dot(A, u), b)"
   ]
  },
  {
   "cell_type": "code",
   "execution_count": null,
   "metadata": {},
   "outputs": [],
   "source": [
    "#option 2 for error:\n",
    "print(\"The error associated with the inverting A method is:\", np.sqrt(np.sum(np.dot(A, u) -b)**2)/len(b))"
   ]
  },
  {
   "cell_type": "code",
   "execution_count": 114,
   "metadata": {},
   "outputs": [
    {
     "name": "stdout",
     "output_type": "stream",
     "text": [
      "The solution after using P, L, and U factorization is: [ 0.58285714 -0.16571429 -1.08571429  0.00571429  0.20285714]\n"
     ]
    }
   ],
   "source": [
    "#Number 4: Second method\n",
    "LU, P = spl.lu_factor(A)\n",
    "print(\"The solution after using LU factorization is:\",spl.lu_solve((LU,P), b))"
   ]
  },
  {
   "cell_type": "code",
   "execution_count": 31,
   "metadata": {},
   "outputs": [
    {
     "name": "stdout",
     "output_type": "stream",
     "text": [
      "The solution after using spl.solve is: [ 0.58285714 -0.16571429 -1.08571429  0.00571429  0.20285714]\n"
     ]
    }
   ],
   "source": [
    "#Number 4: Method 3\n",
    "x = spl.solve(A, b)\n",
    "print(\"The solution after using spl.solve is:\", x)"
   ]
  },
  {
   "cell_type": "code",
   "execution_count": 32,
   "metadata": {},
   "outputs": [
    {
     "name": "stdout",
     "output_type": "stream",
     "text": [
      "Error associated with spl.solve method: 4.440892098500626e-16\n"
     ]
    }
   ],
   "source": [
    "print(\"Error associated with spl.solve method:\", spl.norm(A.dot(x) -b))"
   ]
  },
  {
   "cell_type": "markdown",
   "metadata": {},
   "source": [
    "### Exercise 4\n",
    "\n",
    "Solve the tridiagonal system $Ax=f$ with\n",
    "$$ A_{ii}=4,\\enspace A_{i,i-1}=A_{i,i+1}=1 $$\n",
    "for all $i$. Let the order of the system be $n=100$, and let\n",
    "$$ f = [1,1,\\dots, 1]^T $$"
   ]
  },
  {
   "cell_type": "code",
   "execution_count": null,
   "metadata": {},
   "outputs": [],
   "source": [
    "#matrix that looks like: [4, 1, 0,...,], [1, 4, 1, 0, 0, ...], [0,1,4,1,0,0,...], [0,0,1,4,1,0,0,...]"
   ]
  },
  {
   "cell_type": "code",
   "execution_count": 2,
   "metadata": {},
   "outputs": [
    {
     "data": {
      "text/plain": [
       "array([[4., 1., 0., ..., 0., 0., 0.],\n",
       "       [1., 4., 1., ..., 0., 0., 0.],\n",
       "       [0., 1., 4., ..., 0., 0., 0.],\n",
       "       ...,\n",
       "       [0., 0., 0., ..., 4., 1., 0.],\n",
       "       [0., 0., 0., ..., 1., 4., 1.],\n",
       "       [0., 0., 0., ..., 0., 1., 4.]])"
      ]
     },
     "execution_count": 2,
     "metadata": {},
     "output_type": "execute_result"
    }
   ],
   "source": [
    "from scipy.sparse import diags\n",
    "import numpy as np\n",
    "\n",
    "n = 100\n",
    "k = [np.ones(n-1),4*np.ones(n),np.ones(n-1)]\n",
    "offset = [-1,0,1]\n",
    "A = diags(k,offset).toarray()\n",
    "A"
   ]
  },
  {
   "cell_type": "code",
   "execution_count": 8,
   "metadata": {},
   "outputs": [
    {
     "data": {
      "text/plain": [
       "array([1, 1, 1, 1, 1, 1, 1, 1, 1, 1, 1, 1, 1, 1, 1, 1, 1, 1, 1, 1, 1, 1,\n",
       "       1, 1, 1, 1, 1, 1, 1, 1, 1, 1, 1, 1, 1, 1, 1, 1, 1, 1, 1, 1, 1, 1,\n",
       "       1, 1, 1, 1, 1, 1, 1, 1, 1, 1, 1, 1, 1, 1, 1, 1, 1, 1, 1, 1, 1, 1,\n",
       "       1, 1, 1, 1, 1, 1, 1, 1, 1, 1, 1, 1, 1, 1, 1, 1, 1, 1, 1, 1, 1, 1,\n",
       "       1, 1, 1, 1, 1, 1, 1, 1, 1, 1, 1, 1])"
      ]
     },
     "execution_count": 8,
     "metadata": {},
     "output_type": "execute_result"
    }
   ],
   "source": [
    "f = np.full(100, 1)\n",
    "f"
   ]
  },
  {
   "cell_type": "code",
   "execution_count": 9,
   "metadata": {},
   "outputs": [],
   "source": [
    "Ainv = spl.inv(A)\n",
    "#Ainv"
   ]
  },
  {
   "cell_type": "code",
   "execution_count": 11,
   "metadata": {},
   "outputs": [
    {
     "name": "stdout",
     "output_type": "stream",
     "text": [
      "The solution after inverting A is: [0.21132487 0.15470054 0.16987298 0.16580754 0.16689687 0.16660498\n",
      " 0.16668319 0.16666224 0.16666785 0.16666635 0.16666675 0.16666664\n",
      " 0.16666667 0.16666667 0.16666667 0.16666667 0.16666667 0.16666667\n",
      " 0.16666667 0.16666667 0.16666667 0.16666667 0.16666667 0.16666667\n",
      " 0.16666667 0.16666667 0.16666667 0.16666667 0.16666667 0.16666667\n",
      " 0.16666667 0.16666667 0.16666667 0.16666667 0.16666667 0.16666667\n",
      " 0.16666667 0.16666667 0.16666667 0.16666667 0.16666667 0.16666667\n",
      " 0.16666667 0.16666667 0.16666667 0.16666667 0.16666667 0.16666667\n",
      " 0.16666667 0.16666667 0.16666667 0.16666667 0.16666667 0.16666667\n",
      " 0.16666667 0.16666667 0.16666667 0.16666667 0.16666667 0.16666667\n",
      " 0.16666667 0.16666667 0.16666667 0.16666667 0.16666667 0.16666667\n",
      " 0.16666667 0.16666667 0.16666667 0.16666667 0.16666667 0.16666667\n",
      " 0.16666667 0.16666667 0.16666667 0.16666667 0.16666667 0.16666667\n",
      " 0.16666667 0.16666667 0.16666667 0.16666667 0.16666667 0.16666667\n",
      " 0.16666667 0.16666667 0.16666667 0.16666667 0.16666664 0.16666675\n",
      " 0.16666635 0.16666785 0.16666224 0.16668319 0.16660498 0.16689687\n",
      " 0.16580754 0.16987298 0.15470054 0.21132487]\n"
     ]
    }
   ],
   "source": [
    "#Method 1:\n",
    "u = Ainv.dot(f)\n",
    "print(\"The solution after inverting A is:\", u)"
   ]
  },
  {
   "cell_type": "code",
   "execution_count": 12,
   "metadata": {},
   "outputs": [
    {
     "name": "stdout",
     "output_type": "stream",
     "text": [
      "The solution after using PLU decomposition is: [0.21132487 0.15470054 0.16987298 0.16580754 0.16689687 0.16660498\n",
      " 0.16668319 0.16666224 0.16666785 0.16666635 0.16666675 0.16666664\n",
      " 0.16666667 0.16666667 0.16666667 0.16666667 0.16666667 0.16666667\n",
      " 0.16666667 0.16666667 0.16666667 0.16666667 0.16666667 0.16666667\n",
      " 0.16666667 0.16666667 0.16666667 0.16666667 0.16666667 0.16666667\n",
      " 0.16666667 0.16666667 0.16666667 0.16666667 0.16666667 0.16666667\n",
      " 0.16666667 0.16666667 0.16666667 0.16666667 0.16666667 0.16666667\n",
      " 0.16666667 0.16666667 0.16666667 0.16666667 0.16666667 0.16666667\n",
      " 0.16666667 0.16666667 0.16666667 0.16666667 0.16666667 0.16666667\n",
      " 0.16666667 0.16666667 0.16666667 0.16666667 0.16666667 0.16666667\n",
      " 0.16666667 0.16666667 0.16666667 0.16666667 0.16666667 0.16666667\n",
      " 0.16666667 0.16666667 0.16666667 0.16666667 0.16666667 0.16666667\n",
      " 0.16666667 0.16666667 0.16666667 0.16666667 0.16666667 0.16666667\n",
      " 0.16666667 0.16666667 0.16666667 0.16666667 0.16666667 0.16666667\n",
      " 0.16666667 0.16666667 0.16666667 0.16666667 0.16666664 0.16666675\n",
      " 0.16666635 0.16666785 0.16666224 0.16668319 0.16660498 0.16689687\n",
      " 0.16580754 0.16987298 0.15470054 0.21132487]\n"
     ]
    }
   ],
   "source": [
    "#Method 2:\n",
    "LU, P = spl.lu_factor(A)\n",
    "print(\"The solution after using PLU decomposition is:\", spl.lu_solve((LU,P), f))"
   ]
  },
  {
   "cell_type": "code",
   "execution_count": 13,
   "metadata": {},
   "outputs": [
    {
     "name": "stdout",
     "output_type": "stream",
     "text": [
      "The solution after using spl.solve method is: [0.21132487 0.15470054 0.16987298 0.16580754 0.16689687 0.16660498\n",
      " 0.16668319 0.16666224 0.16666785 0.16666635 0.16666675 0.16666664\n",
      " 0.16666667 0.16666667 0.16666667 0.16666667 0.16666667 0.16666667\n",
      " 0.16666667 0.16666667 0.16666667 0.16666667 0.16666667 0.16666667\n",
      " 0.16666667 0.16666667 0.16666667 0.16666667 0.16666667 0.16666667\n",
      " 0.16666667 0.16666667 0.16666667 0.16666667 0.16666667 0.16666667\n",
      " 0.16666667 0.16666667 0.16666667 0.16666667 0.16666667 0.16666667\n",
      " 0.16666667 0.16666667 0.16666667 0.16666667 0.16666667 0.16666667\n",
      " 0.16666667 0.16666667 0.16666667 0.16666667 0.16666667 0.16666667\n",
      " 0.16666667 0.16666667 0.16666667 0.16666667 0.16666667 0.16666667\n",
      " 0.16666667 0.16666667 0.16666667 0.16666667 0.16666667 0.16666667\n",
      " 0.16666667 0.16666667 0.16666667 0.16666667 0.16666667 0.16666667\n",
      " 0.16666667 0.16666667 0.16666667 0.16666667 0.16666667 0.16666667\n",
      " 0.16666667 0.16666667 0.16666667 0.16666667 0.16666667 0.16666667\n",
      " 0.16666667 0.16666667 0.16666667 0.16666667 0.16666664 0.16666675\n",
      " 0.16666635 0.16666785 0.16666224 0.16668319 0.16660498 0.16689687\n",
      " 0.16580754 0.16987298 0.15470054 0.21132487]\n"
     ]
    }
   ],
   "source": [
    "#Method 3:\n",
    "x = spl.solve(A, f)\n",
    "print(\"The solution after using spl.solve method is:\", x)"
   ]
  }
 ],
 "metadata": {
  "kernelspec": {
   "display_name": "Python 3",
   "language": "python",
   "name": "python3"
  },
  "language_info": {
   "codemirror_mode": {
    "name": "ipython",
    "version": 3
   },
   "file_extension": ".py",
   "mimetype": "text/x-python",
   "name": "python",
   "nbconvert_exporter": "python",
   "pygments_lexer": "ipython3",
   "version": "3.10.5"
  },
  "vscode": {
   "interpreter": {
    "hash": "20f7126efa4f1607ef539236579759f7689e634a2f6fc133b1cb220d3d6e6f27"
   }
  }
 },
 "nbformat": 4,
 "nbformat_minor": 4
}
