{
 "cells": [
  {
   "cell_type": "markdown",
   "metadata": {},
   "source": [
    "# Lab 3: Integration and Differentiation"
   ]
  },
  {
   "cell_type": "code",
   "execution_count": 1,
   "metadata": {},
   "outputs": [],
   "source": [
    "import numpy as np\n",
    "import matplotlib.pyplot as plt"
   ]
  },
  {
   "cell_type": "markdown",
   "metadata": {},
   "source": [
    "## Trapezoidal and Simpson's Rules"
   ]
  },
  {
   "cell_type": "markdown",
   "metadata": {},
   "source": [
    "### Exercise 1\n",
    "\n",
    "#### Part 1 \n",
    "Write a function that compute the integral using the Trapezoidal Rule. The function should take in arguments $f$, $a$, $b$, and $n$ (the number of points) and return the approxiation of $\\int_a^b f(x)dx$."
   ]
  },
  {
   "cell_type": "code",
   "execution_count": 2,
   "metadata": {},
   "outputs": [],
   "source": [
    "def trap(f, a, b, n):\n",
    "    h = (b - a) / n\n",
    "    s = 0.5 * (f(a) + f(b))\n",
    "    for i in range(1, n):\n",
    "        s += f(a + i * h)\n",
    "    return s * h"
   ]
  },
  {
   "cell_type": "markdown",
   "metadata": {},
   "source": [
    "#### Part 2\n",
    "\n",
    "Test your trapezoid function by comparing the result from your trapezoid function and an integral that you know the exact value of. You should compute the trapezoid rule with different $n$ and see if you get closer the exact value the larger $n$ is. **Plot the error**"
   ]
  },
  {
   "cell_type": "code",
   "execution_count": 3,
   "metadata": {},
   "outputs": [],
   "source": [
    "def f(x):\n",
    "    return x**3"
   ]
  },
  {
   "cell_type": "code",
   "execution_count": 4,
   "metadata": {},
   "outputs": [
    {
     "name": "stdout",
     "output_type": "stream",
     "text": [
      "The exact value of the integral of x^3 from 0 to 1 is 0.25\n"
     ]
    }
   ],
   "source": [
    "#Exact value of x is 0.25:\n",
    "print(\"The exact value of the integral of x^3 from 0 to 1 is 0.25\")"
   ]
  },
  {
   "cell_type": "code",
   "execution_count": 5,
   "metadata": {},
   "outputs": [
    {
     "name": "stdout",
     "output_type": "stream",
     "text": [
      "The approximation of the integral of x^3 from 0 to 1 when n=1 is: 0.5\n"
     ]
    }
   ],
   "source": [
    "a1 = trap(f, 0, 1, 1)\n",
    "print(\"The approximation of the integral of x^3 from 0 to 1 when n=1 is:\", a1)"
   ]
  },
  {
   "cell_type": "code",
   "execution_count": 6,
   "metadata": {},
   "outputs": [
    {
     "name": "stdout",
     "output_type": "stream",
     "text": [
      "Using the trapezoid rule (with 25 sections), the approximation of the integral of x^3 from 0 to 1 is 0.2504\n"
     ]
    }
   ],
   "source": [
    "a2 = trap(f, 0, 1, 25)\n",
    "print('Using the trapezoid rule (with 25 sections), the approximation of the integral of x^3 from 0 to 1 is', a2)"
   ]
  },
  {
   "cell_type": "code",
   "execution_count": 7,
   "metadata": {},
   "outputs": [
    {
     "name": "stdout",
     "output_type": "stream",
     "text": [
      "As the number of sections increases (n=50), the approximation of the integral, 0.25010000000000004 , gets closer to the actual value.\n"
     ]
    }
   ],
   "source": [
    "a3 = trap(f, 0, 1, 50)\n",
    "print(\"As the number of sections increases (n=50), the approximation of the integral,\", a3,\", gets closer to the actual value.\")"
   ]
  },
  {
   "cell_type": "code",
   "execution_count": 8,
   "metadata": {},
   "outputs": [
    {
     "name": "stdout",
     "output_type": "stream",
     "text": [
      "The error when n=1 is: 0.25\n"
     ]
    }
   ],
   "source": [
    "#Exact value of x is 0.25:\n",
    "z1 = np.abs(0.25 - a1)\n",
    "print(\"The error when n=1 is:\",z1)"
   ]
  },
  {
   "cell_type": "code",
   "execution_count": 9,
   "metadata": {},
   "outputs": [
    {
     "name": "stdout",
     "output_type": "stream",
     "text": [
      "The error with n = 25 is: 0.00040000000000001146\n"
     ]
    }
   ],
   "source": [
    "z2 = np.abs(0.25-a2)\n",
    "print(\"The error with n = 25 is:\", z2)"
   ]
  },
  {
   "cell_type": "code",
   "execution_count": 10,
   "metadata": {},
   "outputs": [
    {
     "name": "stdout",
     "output_type": "stream",
     "text": [
      "As the number of sections increases, the error gets closer and closer to 0. Error with n = 50: 0.0001000000000000445\n"
     ]
    }
   ],
   "source": [
    "z3 = np.abs(0.25 - a3)\n",
    "print('As the number of sections increases, the error gets closer and closer to 0. Error with n = 50:', z3)"
   ]
  },
  {
   "cell_type": "code",
   "execution_count": 11,
   "metadata": {},
   "outputs": [
    {
     "data": {
      "text/plain": [
       "Text(0, 0.5, 'Error')"
      ]
     },
     "execution_count": 11,
     "metadata": {},
     "output_type": "execute_result"
    },
    {
     "data": {
      "image/png": "[encoded data removed]",
      "text/plain": [
       "<Figure size 640x480 with 1 Axes>"
      ]
     },
     "metadata": {},
     "output_type": "display_data"
    }
   ],
   "source": [
    "x = np.linspace(start = 0, stop = 50, num = 3)\n",
    "errors = np.array([z1, z2, z3])\n",
    "plt.plot(x, errors)\n",
    "plt.title(\"Trapezoid Rule Error\")\n",
    "plt.xlabel(\"Sections\")\n",
    "plt.ylabel(\"Error\")"
   ]
  },
  {
   "cell_type": "markdown",
   "metadata": {},
   "source": [
    "### Exercise 2\n",
    "\n",
    "#### Part 1\n",
    "Write a function that compute the integral using the  Simpson's Rule Rule. The function should take in arguments $f$, $a$, $b$, and $n$ (the number of points) and return the approxiation of $\\int_a^b f(x)dx$."
   ]
  },
  {
   "cell_type": "code",
   "execution_count": 13,
   "metadata": {},
   "outputs": [],
   "source": [
    "import numpy as np\n",
    "import matplotlib.pyplot as plt"
   ]
  },
  {
   "cell_type": "code",
   "execution_count": null,
   "metadata": {},
   "outputs": [],
   "source": [
    "# def simpson(f, a, b, n):\n",
    "#     if n % 2 != 0:  # n must be even\n",
    "#         return None\n",
    "#     h = (b - a) / n\n",
    "#     x = a + h\n",
    "#     sum_odd = sum_even = 0\n",
    "#     for i in range(1, n):\n",
    "#         if i % 2 == 0:\n",
    "#             sum_even += f(x)\n",
    "#         else:\n",
    "#             sum_odd += f(x)\n",
    "#         x += h\n",
    "#     total = (h / 3) * (f(a) + 4 * sum_odd + 2 * sum_even + f(b))\n",
    "#     return total\n",
    "\n",
    "\n",
    "def simpson(f, a, b, n):\n",
    "    if n % 2 != 0:  # n must be even\n",
    "        return None\n",
    "    h = (b - a) / n\n",
    "    x = np.linspace(a + h, b - h, n - 1)\n",
    "    total = (h / 3) * (f(a) + 4 *\n",
    "                       np.sum(f(x[::2])) + 2 * np.sum(f(x[1::2])) + f(b))\n",
    "    return total\n"
   ]
  },
  {
   "cell_type": "code",
   "execution_count": 18,
   "metadata": {},
   "outputs": [
    {
     "data": {
      "text/plain": [
       "-0.7951542719969305"
      ]
     },
     "execution_count": 18,
     "metadata": {},
     "output_type": "execute_result"
    }
   ],
   "source": [
    "def f(x):\n",
    "    return (2*np.cos(x**4))\n",
    "simpson(f, 1, 6, 50)"
   ]
  },
  {
   "cell_type": "code",
   "execution_count": 19,
   "metadata": {},
   "outputs": [
    {
     "name": "stdout",
     "output_type": "stream",
     "text": [
      "The Simpson approximtion value of the integral of $2cos(x^4)$ from 1 to 6 is -0.7951542719969305\n"
     ]
    }
   ],
   "source": [
    "print(f\"The Simpson approximtion value of the integral of $2cos(x^4)$ from 1 to 6 is {simpson(f, 1, 6, 50)}\")\n"
   ]
  },
  {
   "cell_type": "markdown",
   "metadata": {},
   "source": [
    "#### Part 2\n",
    "\n",
    "Test your simpson function by comparing the result from your simpson function and an integral that you know the exact value of. You should compute the simpson rule with different $n$ and see if you get closer the exact value the larger $n$ is. **Plot the error**"
   ]
  },
  {
   "cell_type": "code",
   "execution_count": 17,
   "metadata": {},
   "outputs": [],
   "source": [
    "def f(x):\n",
    "    return 1/(1+x**2)"
   ]
  },
  {
   "cell_type": "code",
   "execution_count": 18,
   "metadata": {},
   "outputs": [
    {
     "name": "stdout",
     "output_type": "stream",
     "text": [
      "The exact value of the integral of 1/(1+x^2) from 0 to 1 is pi/4 (which is approximately 0.7854).\n"
     ]
    }
   ],
   "source": [
    "print(\"The exact value of the integral of 1/(1+x^2) from 0 to 1 is pi/4 (which is approximately 0.7854).\")"
   ]
  },
  {
   "cell_type": "code",
   "execution_count": 19,
   "metadata": {},
   "outputs": [
    {
     "name": "stdout",
     "output_type": "stream",
     "text": [
      "Using n=2 sections, the approximation of 1/(1+x^2) from 0 to 1 is 0.7833333333333333\n"
     ]
    }
   ],
   "source": [
    "a1 = simpson(f, 0, 1, 2)\n",
    "print(\"Using n=2 sections, the approximation of 1/(1+x^2) from 0 to 1 is\", a1)"
   ]
  },
  {
   "cell_type": "code",
   "execution_count": 20,
   "metadata": {},
   "outputs": [
    {
     "name": "stdout",
     "output_type": "stream",
     "text": [
      "As n increases (n=50), the approximation gets closer to the actual value. Approximation with n=50: 0.7853981633968133\n"
     ]
    }
   ],
   "source": [
    "a2 = simpson(f, 0, 1, 50)\n",
    "print(\"As n increases (n=50), the approximation gets closer to the actual value. Approximation with n=50:\", a2)"
   ]
  },
  {
   "cell_type": "code",
   "execution_count": 21,
   "metadata": {},
   "outputs": [
    {
     "name": "stdout",
     "output_type": "stream",
     "text": [
      "Approximation with n=100 is: 0.7853981633974385\n"
     ]
    }
   ],
   "source": [
    "a3 = simpson(f, 0, 1, 100)\n",
    "print(\"Approximation with n=100 is:\", a3)"
   ]
  },
  {
   "cell_type": "code",
   "execution_count": 22,
   "metadata": {},
   "outputs": [
    {
     "name": "stdout",
     "output_type": "stream",
     "text": [
      "The error when n=2 is: 0.002064830064114953\n"
     ]
    }
   ],
   "source": [
    "z1 = np.abs(a1 - np.pi/4)\n",
    "print(\"The error when n=2 is:\",z1)"
   ]
  },
  {
   "cell_type": "code",
   "execution_count": 23,
   "metadata": {},
   "outputs": [
    {
     "name": "stdout",
     "output_type": "stream",
     "text": [
      "The error when n=50 is: 6.34936547783127e-13\n"
     ]
    }
   ],
   "source": [
    "z2 = np.abs(a2 - np.pi/4)\n",
    "print(\"The error when n=50 is:\",z2)"
   ]
  },
  {
   "cell_type": "code",
   "execution_count": 24,
   "metadata": {},
   "outputs": [
    {
     "name": "stdout",
     "output_type": "stream",
     "text": [
      "As the number of sections increases, the error gets closer and closer to 0. The error when n=100 is: 9.769962616701378e-15\n"
     ]
    }
   ],
   "source": [
    "z3 = np.abs(a3 - np.pi/4)\n",
    "print(\"As the number of sections increases, the error gets closer and closer to 0. The error when n=100 is:\",z3)"
   ]
  },
  {
   "cell_type": "code",
   "execution_count": 25,
   "metadata": {},
   "outputs": [
    {
     "data": {
      "text/plain": [
       "Text(0, 0.5, 'Error')"
      ]
     },
     "execution_count": 25,
     "metadata": {},
     "output_type": "execute_result"
    },
    {
     "data": {
      "image/png": "[encoded data removed]",
      "text/plain": [
       "<Figure size 640x480 with 1 Axes>"
      ]
     },
     "metadata": {},
     "output_type": "display_data"
    }
   ],
   "source": [
    "x = np.linspace(start = 1, stop = 100, num = 3)\n",
    "errors = [z1, z2, z3]\n",
    "plt.plot(x, errors)\n",
    "plt.title(\"Simpson Method Error\")\n",
    "plt.xlabel(\"Sections\")\n",
    "plt.ylabel(\"Error\")"
   ]
  },
  {
   "cell_type": "markdown",
   "metadata": {},
   "source": [
    "### Exercise 3\n",
    "\n",
    "Use the Trapezoidal Rule and Simpson's Rule with $n=50$ to find approximate values of the following integrals.\n",
    "1. $\\int_0^{6} e^{\\frac{-x^2}{2}} dx$, \n",
    "2. $\\int_0^{\\pi^2} x^{3}\\sin(\\sqrt{x}) dx$, \n",
    "3. $\\int_{-1}^{3} \\sqrt{x^2+e^{x/3}} dx$, "
   ]
  },
  {
   "cell_type": "code",
   "execution_count": 12,
   "metadata": {},
   "outputs": [
    {
     "name": "stdout",
     "output_type": "stream",
     "text": [
      "The approximation the function using Simpson's Rule is: -0.023606148852836795\n"
     ]
    }
   ],
   "source": [
    "def f(x):\n",
    "    return np.exp(-x**2/3) * np.cos(x)\n",
    "print(\"The approximation the function using Simpson's Rule is:\", simpson(f, 1, 3, 30)) #simpson approx of 1"
   ]
  },
  {
   "cell_type": "code",
   "execution_count": 15,
   "metadata": {},
   "outputs": [
    {
     "name": "stdout",
     "output_type": "stream",
     "text": [
      "The approximation of number 1 using Trapezoid Rule is: -0.02325301691653361\n"
     ]
    }
   ],
   "source": [
    "print(\"The approximation of number 1 using Trapezoid Rule is:\", trap(f, 1, 3, 30))#trap approx of 1"
   ]
  },
  {
   "cell_type": "code",
   "execution_count": 28,
   "metadata": {},
   "outputs": [
    {
     "name": "stdout",
     "output_type": "stream",
     "text": [
      "The approximation of number 2 using Simpson's Rule is: 758.2236326400192\n"
     ]
    }
   ],
   "source": [
    "def f(x):\n",
    "    return (x**3)*np.sin(np.sqrt(x))\n",
    "print(\"The approximation of number 2 using Simpson's Rule is:\",simpson(f, 0, np.pi**2, 50))#simpson approx of 2"
   ]
  },
  {
   "cell_type": "code",
   "execution_count": 29,
   "metadata": {},
   "outputs": [
    {
     "name": "stdout",
     "output_type": "stream",
     "text": [
      "The approximation of number 2 using Trapezoid Rule is: 757.727032077257\n"
     ]
    }
   ],
   "source": [
    "print(\"The approximation of number 2 using Trapezoid Rule is:\",trap(f, 0, np.pi**2, 50))#trap approx of 2"
   ]
  },
  {
   "cell_type": "code",
   "execution_count": 30,
   "metadata": {},
   "outputs": [
    {
     "name": "stdout",
     "output_type": "stream",
     "text": [
      "The approximation of number 3 using Simpson's Rule is: 7.212671689207884\n"
     ]
    }
   ],
   "source": [
    "def f(x):\n",
    "    return np.sqrt(x**2 + np.exp(x/3))\n",
    "print(\"The approximation of number 3 using Simpson's Rule is:\",simpson(f, -1, 3, 50))#simpson approx of 3"
   ]
  },
  {
   "cell_type": "code",
   "execution_count": 31,
   "metadata": {},
   "outputs": [
    {
     "name": "stdout",
     "output_type": "stream",
     "text": [
      "The approximation of number 3 using Trapezoid Rule is: 7.2135683380677165\n"
     ]
    }
   ],
   "source": [
    "print(\"The approximation of number 3 using Trapezoid Rule is:\",trap(f, -1, 3, 50))#trap approx of 3"
   ]
  },
  {
   "cell_type": "markdown",
   "metadata": {},
   "source": [
    "### Exercise 4\n",
    "\n",
    "Find a way to compute $\\log(x)$ using an integral. Once you have that integral approximate $\\log(2)$ and $\\log(3)$."
   ]
  },
  {
   "cell_type": "code",
   "execution_count": 32,
   "metadata": {},
   "outputs": [
    {
     "name": "stdout",
     "output_type": "stream",
     "text": [
      "Using Simpson's Rule, log(2) is approximately 0.6931471808723669\n"
     ]
    }
   ],
   "source": [
    "#derivative is log(x) so find a function such that the derivative is log(x)\n",
    "def f(x):\n",
    "    return 1/x\n",
    "print(\"Using Simpson's Rule, log(2) is approximately\",simpson(f, 2, 4, 100))#approximate log(2)"
   ]
  },
  {
   "cell_type": "code",
   "execution_count": 33,
   "metadata": {},
   "outputs": [
    {
     "name": "stdout",
     "output_type": "stream",
     "text": [
      "Using Simpson's Rule, log(3) is approximately 1.0986122939305358\n"
     ]
    }
   ],
   "source": [
    "print(\"Using Simpson's Rule, log(3) is approximately\",simpson(f, 2, 6, 100))#approximate log(3)"
   ]
  },
  {
   "cell_type": "markdown",
   "metadata": {},
   "source": [
    "#### Exercise 5\n",
    "\n",
    "Using the trapezoidal or simpson rule. Compute the area of the half circle of radius 1."
   ]
  },
  {
   "cell_type": "code",
   "execution_count": 34,
   "metadata": {},
   "outputs": [
    {
     "name": "stdout",
     "output_type": "stream",
     "text": [
      "Using the trapezoid rule, the area of a half circle of radius 1 is approximately 1.5660981554514979\n"
     ]
    }
   ],
   "source": [
    "def f(x):\n",
    "    return np.sqrt(1-x**2)\n",
    "a1 = trap(f, -1, 1, 50)\n",
    "print(\"Using the trapezoid rule, the area of a half circle of radius 1 is approximately\",a1)"
   ]
  },
  {
   "cell_type": "code",
   "execution_count": 35,
   "metadata": {},
   "outputs": [
    {
     "name": "stdout",
     "output_type": "stream",
     "text": [
      "Therefore, pi is approximately 3.1321963109029958\n"
     ]
    }
   ],
   "source": [
    "pie1 = a1*2\n",
    "print(\"Therefore, pi is approximately\", pie1)"
   ]
  },
  {
   "cell_type": "code",
   "execution_count": 36,
   "metadata": {},
   "outputs": [
    {
     "name": "stdout",
     "output_type": "stream",
     "text": [
      "The approximation of pi using the trapezoid rule is 0.009396342686797343 off from the true value of pi.\n"
     ]
    }
   ],
   "source": [
    "print(\"The approximation of pi using the trapezoid rule is\", np.abs(np.pi-pie1),'off from the true value of pi.')"
   ]
  },
  {
   "cell_type": "code",
   "execution_count": 37,
   "metadata": {},
   "outputs": [
    {
     "name": "stdout",
     "output_type": "stream",
     "text": [
      "Using Simpson's Rule, the area of a half circle of radius 1 is approximately 1.5689561674948544\n"
     ]
    }
   ],
   "source": [
    "a2 = simpson(f, -1, 1, 50)\n",
    "print(\"Using Simpson's Rule, the area of a half circle of radius 1 is approximately\",a2)"
   ]
  },
  {
   "cell_type": "code",
   "execution_count": 38,
   "metadata": {},
   "outputs": [
    {
     "name": "stdout",
     "output_type": "stream",
     "text": [
      "Therefore, pi is approximately 3.137912334989709\n"
     ]
    }
   ],
   "source": [
    "pie2 = a2*2\n",
    "print(\"Therefore, pi is approximately\",pie2)"
   ]
  },
  {
   "cell_type": "code",
   "execution_count": 40,
   "metadata": {},
   "outputs": [
    {
     "name": "stdout",
     "output_type": "stream",
     "text": [
      "The approximation of pi using Simpson's Rule is 0.0036803186000842203 off from the true value of pi.\n",
      "By comparing the two errors, you can conclude the Simpson Rule provided a more accurate approximation of pi.\n"
     ]
    }
   ],
   "source": [
    "print(\"The approximation of pi using Simpson's Rule is\", np.abs(np.pi-pie2), \"off from the true value of pi.\")\n",
    "print(\"By comparing the two errors, you can conclude the Simpson Rule provided a more accurate approximation of pi.\")"
   ]
  },
  {
   "cell_type": "markdown",
   "metadata": {},
   "source": [
    "## Exercise 6\n",
    "\n",
    "Using the Simpson method or trapezoidal rule, plot one of the antiderivative of $e^{x^2}$ between $-1$ and $1$."
   ]
  },
  {
   "cell_type": "code",
   "execution_count": 41,
   "metadata": {},
   "outputs": [],
   "source": [
    "def f(s):\n",
    "    return np.exp(s**2)\n",
    "\n",
    "x = np.linspace(-1,1,50)\n",
    "\n",
    "yarray = []\n",
    "\n",
    "for i in x:\n",
    "    y = simpson(f, 1, i, 10)\n",
    "    yarray.append(y)"
   ]
  },
  {
   "cell_type": "code",
   "execution_count": 43,
   "metadata": {},
   "outputs": [
    {
     "data": {
      "text/plain": [
       "Text(0, 0.5, 'Y Axis')"
      ]
     },
     "execution_count": 43,
     "metadata": {},
     "output_type": "execute_result"
    },
    {
     "data": {
      "image/png": "[encoded data removed]",
      "text/plain": [
       "<Figure size 640x480 with 1 Axes>"
      ]
     },
     "metadata": {},
     "output_type": "display_data"
    }
   ],
   "source": [
    "plt.plot(x, yarray)\n",
    "plt.title(\"An Antiderivative of e^(x^2)\")\n",
    "plt.xlabel(\"X Axis\")\n",
    "plt.ylabel(\"Y Axis\")"
   ]
  },
  {
   "cell_type": "code",
   "execution_count": 11,
   "metadata": {},
   "outputs": [
    {
     "data": {
      "text/plain": [
       "Text(0, 0.5, '$y$-Axis')"
      ]
     },
     "execution_count": 11,
     "metadata": {},
     "output_type": "execute_result"
    },
    {
     "data": {
      "image/png": "[encoded data removed]",
      "text/plain": [
       "<Figure size 640x480 with 1 Axes>"
      ]
     },
     "metadata": {},
     "output_type": "display_data"
    }
   ],
   "source": [
    "def f(x):\n",
    "    return np.exp(x ** 2)\n",
    "\n",
    "\n",
    "def vector_simpson(x):\n",
    "    return simpson(f, -1, x, 100)\n",
    "\n",
    "\n",
    "x = np.linspace(-1, 1, 50)\n",
    "y = np.vectorize(vector_simpson)(x)\n",
    "\n",
    "plt.plot(x, y)\n",
    "plt.title(\"An Antiderivative of $e^{x^2}$\")\n",
    "plt.xlabel(\"$x$-axis\")\n",
    "plt.ylabel(\"$y$-Axis\")\n"
   ]
  },
  {
   "cell_type": "markdown",
   "metadata": {},
   "source": [
    "## Numerical Derivatives"
   ]
  },
  {
   "cell_type": "markdown",
   "metadata": {},
   "source": [
    "### Exercise 7\n",
    "\n",
    "In the following instances, find the numerical derivative of $xe^{x^2}$ at $x=1$, using the backward, forward, and centered formula with $h=0.05$. Then for each approximation compute the error and  **specify which one is more accurate.**"
   ]
  },
  {
   "cell_type": "code",
   "execution_count": 20,
   "metadata": {},
   "outputs": [],
   "source": [
    "def center(f, x, h):\n",
    "    f1 = (f(x+h)-f(x-h))/(2*h)\n",
    "    return f1\n",
    "\n",
    "def forward(f, x, h):\n",
    "    f1 = (f(x+h)-f(x))/(h)\n",
    "    return f1\n",
    "\n",
    "def backward(f, x, h):\n",
    "    f1 = (f(x)-f(x-h))/(h)\n",
    "    return f1"
   ]
  },
  {
   "cell_type": "code",
   "execution_count": 23,
   "metadata": {},
   "outputs": [
    {
     "name": "stdout",
     "output_type": "stream",
     "text": [
      "Using the center method, the numerical derivative of $cos^(-1)(x^2) when x is 1/4 is -0.5011127066060617\n"
     ]
    }
   ],
   "source": [
    "def f(x):\n",
    "    return np.arccos(x**2)\n",
    "d = center(f, 1/4, 0.05)\n",
    "print(f\"Using the center method, the numerical derivative of $cos^(-1)(x^2) when x is 1/4 is {d}\")"
   ]
  },
  {
   "cell_type": "code",
   "execution_count": 27,
   "metadata": {},
   "outputs": [
    {
     "data": {
      "text/plain": [
       "<matplotlib.legend.Legend at 0x1dae5396bc0>"
      ]
     },
     "execution_count": 27,
     "metadata": {},
     "output_type": "execute_result"
    },
    {
     "data": {
      "image/png": "[encoded data removed]",
      "text/plain": [
       "<Figure size 640x480 with 1 Axes>"
      ]
     },
     "metadata": {},
     "output_type": "display_data"
    }
   ],
   "source": [
    "x = np.linspace(0., 0.5, 500)\n",
    "\n",
    "\n",
    "# plt.plot(x, f(x))\n",
    "plt.plot(x, center(f, x, 0.01))\n",
    "plt.title(\"Graph of $f'(x)$\")\n",
    "\n",
    "plt.xlabel(\"$x$\")\n",
    "\n",
    "plt.ylabel(\"$y$\")\n",
    "\n",
    "plt.legend([\"$f'(x)$\"])"
   ]
  },
  {
   "cell_type": "code",
   "execution_count": 6,
   "metadata": {},
   "outputs": [
    {
     "name": "stdout",
     "output_type": "stream",
     "text": [
      "Using the forward method, the numerical derivative of xe^(x^2) when x is 1 is 8.87976596273977\n"
     ]
    }
   ],
   "source": [
    "d2 = forward(f, 1, 0.05)\n",
    "print(\"Using the forward method, the numerical derivative of xe^(x^2) when x is 1 is\", d2)"
   ]
  },
  {
   "cell_type": "code",
   "execution_count": 7,
   "metadata": {},
   "outputs": [
    {
     "name": "stdout",
     "output_type": "stream",
     "text": [
      "Using the backward method, the numerical derivative of xe^(x^2) when x is 1 is 7.516200148708965\n"
     ]
    }
   ],
   "source": [
    "d3 = backward(f, 1, 0.05)\n",
    "print(\"Using the backward method, the numerical derivative of xe^(x^2) when x is 1 is\", d3)"
   ]
  },
  {
   "cell_type": "code",
   "execution_count": 8,
   "metadata": {},
   "outputs": [
    {
     "name": "stdout",
     "output_type": "stream",
     "text": [
      "The actual derivative when x is 1 is 8.154845485377136\n"
     ]
    }
   ],
   "source": [
    "#Actual derivative:\n",
    "def f1(x):\n",
    "    return (2*x**2 +1)*np.exp(x**2)\n",
    "print(\"The actual derivative when x is 1 is\", f1(1))"
   ]
  },
  {
   "cell_type": "code",
   "execution_count": 9,
   "metadata": {},
   "outputs": [
    {
     "name": "stdout",
     "output_type": "stream",
     "text": [
      "Error after using center method: 0.043137570347230536\n"
     ]
    }
   ],
   "source": [
    "#center method error:\n",
    "error1 = np.abs(d1 - f1(1))\n",
    "print(\"Error after using center method:\",error1)#center is the most accurate"
   ]
  },
  {
   "cell_type": "code",
   "execution_count": 10,
   "metadata": {},
   "outputs": [
    {
     "name": "stdout",
     "output_type": "stream",
     "text": [
      "Error after using forward method: 0.7249204773626339\n"
     ]
    }
   ],
   "source": [
    "#forward method error:\n",
    "error2 = np.abs(d2 - f1(1))\n",
    "print(\"Error after using forward method:\",error2)"
   ]
  },
  {
   "cell_type": "code",
   "execution_count": 11,
   "metadata": {},
   "outputs": [
    {
     "name": "stdout",
     "output_type": "stream",
     "text": [
      "Error after using backward method: 0.638645336668171\n",
      "Based on the errors, the center method gave the most accurate approximation.\n"
     ]
    }
   ],
   "source": [
    "#backward method error:\n",
    "error3 = np.abs(d3 - f1(1))\n",
    "print(\"Error after using backward method:\",error3)\n",
    "print(\"Based on the errors, the center method gave the most accurate approximation.\")"
   ]
  },
  {
   "cell_type": "markdown",
   "metadata": {},
   "source": [
    "#### Exercise 8\n",
    "\n",
    "In the following instances, find the numerical derivative at the indicated point, using the backward, forward, and centered formula. Use $h=0.05$.\n",
    " \n",
    "1.  $\\cos^{-1}(x^2)$ at $x=\\frac{1}{2}$.\n",
    "2. $\\sqrt{1+\\sin^2(x)}$ at $x=\\pi$."
   ]
  },
  {
   "cell_type": "code",
   "execution_count": 12,
   "metadata": {},
   "outputs": [
    {
     "name": "stdout",
     "output_type": "stream",
     "text": [
      "Using the center method, the numerical derivative of number 1 is approximately: -1.0340430977693815\n"
     ]
    }
   ],
   "source": [
    "def f(x):\n",
    "    return np.arccos(x**2)\n",
    "\n",
    "d1 = center(f, 1/2, 0.05)\n",
    "print(\"Using the center method, the numerical derivative of number 1 is approximately:\", d1)"
   ]
  },
  {
   "cell_type": "code",
   "execution_count": 13,
   "metadata": {},
   "outputs": [
    {
     "name": "stdout",
     "output_type": "stream",
     "text": [
      "Using the forward method, the numerical derivative of number 1 is approximately: -1.0926838965075358\n"
     ]
    }
   ],
   "source": [
    "d2 = forward(f, 1/2, 0.05)\n",
    "print(\"Using the forward method, the numerical derivative of number 1 is approximately:\", d2)"
   ]
  },
  {
   "cell_type": "code",
   "execution_count": 14,
   "metadata": {},
   "outputs": [
    {
     "name": "stdout",
     "output_type": "stream",
     "text": [
      "Using the backward method, the numerical derivative of number 1 is approximately: -0.9754022990312272\n"
     ]
    }
   ],
   "source": [
    "d3 = backward(f, 1/2, 0.05)\n",
    "print(\"Using the backward method, the numerical derivative of number 1 is approximately:\", d3)"
   ]
  },
  {
   "cell_type": "code",
   "execution_count": 15,
   "metadata": {},
   "outputs": [
    {
     "name": "stdout",
     "output_type": "stream",
     "text": [
      "Using the center method, the numerical derivative of number 2 is approximately: 0.0\n"
     ]
    }
   ],
   "source": [
    "def f(x):\n",
    "    return np.sqrt(1 + (np.sin(x))**2)\n",
    "\n",
    "he = center(f, np.pi, 0.05)\n",
    "print(\"Using the center method, the numerical derivative of number 2 is approximately:\", he)"
   ]
  },
  {
   "cell_type": "code",
   "execution_count": 16,
   "metadata": {},
   "outputs": [
    {
     "name": "stdout",
     "output_type": "stream",
     "text": [
      "Using the forward method, the numerical derivative of number 2 is approximately: 0.024963594084130847\n"
     ]
    }
   ],
   "source": [
    "hehe = forward(f, np.pi, 0.05)\n",
    "print(\"Using the forward method, the numerical derivative of number 2 is approximately:\",hehe)"
   ]
  },
  {
   "cell_type": "code",
   "execution_count": 17,
   "metadata": {},
   "outputs": [
    {
     "name": "stdout",
     "output_type": "stream",
     "text": [
      "Using the backward method, the numerical derivative of number 2 is approximately: -0.024963594084130847\n"
     ]
    }
   ],
   "source": [
    "hehehe = backward(f, np.pi, 0.05)\n",
    "print(\"Using the backward method, the numerical derivative of number 2 is approximately:\",hehehe)"
   ]
  },
  {
   "cell_type": "markdown",
   "metadata": {},
   "source": [
    "## Exercise 9\n",
    "\n",
    "Using the centered method, plot the derivative of $e^{x^2}$ betwee $0$ and $2$.\n"
   ]
  },
  {
   "cell_type": "code",
   "execution_count": 58,
   "metadata": {},
   "outputs": [],
   "source": [
    "def f(s):\n",
    "    return np.exp(s**2)\n",
    "\n",
    "x = np.linspace(0, 2, 50)\n",
    "# Based on linspace, h = (2-0)/49 so put this as h below\n",
    "yarray = []\n",
    "\n",
    "for i in x:\n",
    "    y = center(f, i, (2-0)/49)\n",
    "    yarray.append(y)"
   ]
  },
  {
   "cell_type": "code",
   "execution_count": 59,
   "metadata": {},
   "outputs": [
    {
     "data": {
      "text/plain": [
       "Text(0, 0.5, 'Y Axis')"
      ]
     },
     "execution_count": 59,
     "metadata": {},
     "output_type": "execute_result"
    },
    {
     "data": {
      "image/png": "[encoded data removed]",
      "text/plain": [
       "<Figure size 640x480 with 1 Axes>"
      ]
     },
     "metadata": {},
     "output_type": "display_data"
    }
   ],
   "source": [
    "plt.plot(x, yarray)\n",
    "plt.title(\"Derivative of e^(x^2)\")\n",
    "plt.xlabel(\"X Axis\")\n",
    "plt.ylabel(\"Y Axis\")"
   ]
  },
  {
   "cell_type": "markdown",
   "metadata": {},
   "source": [
    "## Bonus\n",
    "\n",
    "Using the [montecarlo integration](https://en.wikipedia.org/wiki/Monte_Carlo_integration), find a way to approximate the value of $\\pi$."
   ]
  },
  {
   "cell_type": "code",
   "execution_count": null,
   "metadata": {},
   "outputs": [],
   "source": [
    "x = np.arange(0, 3.1, 0.1)\n",
    "y = np.vectorize(lambda xi: derivative(f, xi, 0.1))(x)\n",
    "\n",
    "plt.plot(x, y)\n",
    "plt.title(\"Derivative of 3cos(x^2)\")\n",
    "plt.xlabel(\"X Axis\")\n",
    "plt.ylabel(\"Y Axis\")\n",
    "plt.show()\n"
   ]
  },
  {
   "cell_type": "code",
   "execution_count": 19,
   "metadata": {},
   "outputs": [
    {
     "data": {
      "image/png": "[encoded data removed]",
      "text/plain": [
       "<Figure size 640x480 with 1 Axes>"
      ]
     },
     "metadata": {},
     "output_type": "display_data"
    }
   ],
   "source": [
    "def f(x): return 3 * np.cos(x ** 2)\n",
    "\n",
    "\n",
    "def center(f, x, h):\n",
    "\n",
    "    return (f(x + h) - f(x - h)) / (2 * h)\n",
    "\n",
    "\n",
    "x = np.arange(0, 3.1, 0.1)\n",
    "y = np.vectorize(lambda xi: center(f, xi, 0.1))(x)\n",
    "\n",
    "plt.plot(x, y)\n",
    "plt.title(\"Derivative of 3cos$(x^2)$\")\n",
    "plt.xlabel(\"X Axis\")\n",
    "plt.ylabel(\"Y Axis\")\n",
    "plt.show()\n"
   ]
  },
  {
   "cell_type": "code",
   "execution_count": null,
   "metadata": {},
   "outputs": [],
   "source": []
  }
 ],
 "metadata": {
  "kernelspec": {
   "display_name": "Python 3 (ipykernel)",
   "language": "python",
   "name": "python3"
  },
  "language_info": {
   "codemirror_mode": {
    "name": "ipython",
    "version": 3
   },
   "file_extension": ".py",
   "mimetype": "text/x-python",
   "name": "python",
   "nbconvert_exporter": "python",
   "pygments_lexer": "ipython3",
   "version": "3.10.5"
  }
 },
 "nbformat": 4,
 "nbformat_minor": 4
}
